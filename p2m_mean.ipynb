{
 "cells": [
  {
   "cell_type": "markdown",
   "metadata": {},
   "source": [
    "**Import the dependencies**"
   ]
  },
  {
   "cell_type": "code",
   "execution_count": 1,
   "metadata": {},
   "outputs": [],
   "source": [
    "import pandas as pd\n",
    "import numpy as np\n",
    "import pandas as pd\n",
    "import seaborn as sns\n",
    "import matplotlib.pyplot as plt\n",
    "from sklearn.model_selection import train_test_split\n",
    "from sklearn.linear_model import LinearRegression\n",
    "from sklearn import svm\n",
    "from sklearn import metrics\n",
    "from sklearn.tree import DecisionTreeRegressor"
   ]
  },
  {
   "cell_type": "markdown",
   "metadata": {},
   "source": [
    "**Data Collection**"
   ]
  },
  {
   "cell_type": "code",
   "execution_count": 2,
   "metadata": {},
   "outputs": [
    {
     "name": "stderr",
     "output_type": "stream",
     "text": [
      "C:\\Users\\LENOVO\\AppData\\Local\\Temp\\ipykernel_26408\\3322783853.py:1: DtypeWarning: Columns (8) have mixed types. Specify dtype option on import or set low_memory=False.\n",
      "  data = pd.read_csv('UNFCCC_v24.csv', encoding= 'unicode_escape')\n"
     ]
    }
   ],
   "source": [
    "data = pd.read_csv('UNFCCC_v24.csv', encoding= 'unicode_escape')\n"
   ]
  },
  {
   "cell_type": "markdown",
   "metadata": {},
   "source": [
    "**EDA**"
   ]
  },
  {
   "cell_type": "code",
   "execution_count": 3,
   "metadata": {},
   "outputs": [
    {
     "data": {
      "text/html": [
       "<div>\n",
       "<style scoped>\n",
       "    .dataframe tbody tr th:only-of-type {\n",
       "        vertical-align: middle;\n",
       "    }\n",
       "\n",
       "    .dataframe tbody tr th {\n",
       "        vertical-align: top;\n",
       "    }\n",
       "\n",
       "    .dataframe thead th {\n",
       "        text-align: right;\n",
       "    }\n",
       "</style>\n",
       "<table border=\"1\" class=\"dataframe\">\n",
       "  <thead>\n",
       "    <tr style=\"text-align: right;\">\n",
       "      <th></th>\n",
       "      <th>Country_code</th>\n",
       "      <th>Country</th>\n",
       "      <th>Format_name</th>\n",
       "      <th>Pollutant_name</th>\n",
       "      <th>Sector_code</th>\n",
       "      <th>Sector_name</th>\n",
       "      <th>Parent_sector_code</th>\n",
       "      <th>Unit</th>\n",
       "      <th>Year</th>\n",
       "      <th>emissions</th>\n",
       "      <th>Notation</th>\n",
       "      <th>PublicationDate</th>\n",
       "      <th>DataSource</th>\n",
       "    </tr>\n",
       "  </thead>\n",
       "  <tbody>\n",
       "    <tr>\n",
       "      <th>0</th>\n",
       "      <td>NL</td>\n",
       "      <td>Netherlands</td>\n",
       "      <td>IPCC Common Reporting Format</td>\n",
       "      <td>SF6 - (CO2 equivalent)</td>\n",
       "      <td>2.E.2</td>\n",
       "      <td>2.E.2 - TFT Flat Panel Display</td>\n",
       "      <td>2.E</td>\n",
       "      <td>Gg CO2 equivalent</td>\n",
       "      <td>2008</td>\n",
       "      <td>NaN</td>\n",
       "      <td>NO</td>\n",
       "      <td>20210616</td>\n",
       "      <td>EEA</td>\n",
       "    </tr>\n",
       "    <tr>\n",
       "      <th>1</th>\n",
       "      <td>NL</td>\n",
       "      <td>Netherlands</td>\n",
       "      <td>IPCC Common Reporting Format</td>\n",
       "      <td>SF6 - (CO2 equivalent)</td>\n",
       "      <td>2.E.3</td>\n",
       "      <td>2.E.3 - Photovoltaics</td>\n",
       "      <td>2.E</td>\n",
       "      <td>Gg CO2 equivalent</td>\n",
       "      <td>1992</td>\n",
       "      <td>NaN</td>\n",
       "      <td>NO</td>\n",
       "      <td>20210616</td>\n",
       "      <td>EEA</td>\n",
       "    </tr>\n",
       "    <tr>\n",
       "      <th>2</th>\n",
       "      <td>NL</td>\n",
       "      <td>Netherlands</td>\n",
       "      <td>IPCC Common Reporting Format</td>\n",
       "      <td>SF6 - (CO2 equivalent)</td>\n",
       "      <td>2.E.3</td>\n",
       "      <td>2.E.3 - Photovoltaics</td>\n",
       "      <td>2.E</td>\n",
       "      <td>Gg CO2 equivalent</td>\n",
       "      <td>2010</td>\n",
       "      <td>NaN</td>\n",
       "      <td>NO</td>\n",
       "      <td>20210616</td>\n",
       "      <td>EEA</td>\n",
       "    </tr>\n",
       "    <tr>\n",
       "      <th>3</th>\n",
       "      <td>NL</td>\n",
       "      <td>Netherlands</td>\n",
       "      <td>IPCC Common Reporting Format</td>\n",
       "      <td>SF6 - (CO2 equivalent)</td>\n",
       "      <td>2.E.3</td>\n",
       "      <td>2.E.3 - Photovoltaics</td>\n",
       "      <td>2.E</td>\n",
       "      <td>Gg CO2 equivalent</td>\n",
       "      <td>2017</td>\n",
       "      <td>NaN</td>\n",
       "      <td>NO</td>\n",
       "      <td>20210616</td>\n",
       "      <td>EEA</td>\n",
       "    </tr>\n",
       "    <tr>\n",
       "      <th>4</th>\n",
       "      <td>NL</td>\n",
       "      <td>Netherlands</td>\n",
       "      <td>IPCC Common Reporting Format</td>\n",
       "      <td>SF6 - (CO2 equivalent)</td>\n",
       "      <td>2.E.5</td>\n",
       "      <td>2.E.5 - Other electronics industry</td>\n",
       "      <td>2.E</td>\n",
       "      <td>Gg CO2 equivalent</td>\n",
       "      <td>1993</td>\n",
       "      <td>NaN</td>\n",
       "      <td>NO</td>\n",
       "      <td>20210616</td>\n",
       "      <td>EEA</td>\n",
       "    </tr>\n",
       "    <tr>\n",
       "      <th>5</th>\n",
       "      <td>NL</td>\n",
       "      <td>Netherlands</td>\n",
       "      <td>IPCC Common Reporting Format</td>\n",
       "      <td>SF6 - (CO2 equivalent)</td>\n",
       "      <td>2.E.5</td>\n",
       "      <td>2.E.5 - Other electronics industry</td>\n",
       "      <td>2.E</td>\n",
       "      <td>Gg CO2 equivalent</td>\n",
       "      <td>2001</td>\n",
       "      <td>NaN</td>\n",
       "      <td>NO</td>\n",
       "      <td>20210616</td>\n",
       "      <td>EEA</td>\n",
       "    </tr>\n",
       "    <tr>\n",
       "      <th>6</th>\n",
       "      <td>LT</td>\n",
       "      <td>Lithuania</td>\n",
       "      <td>IPCC Common Reporting Format</td>\n",
       "      <td>N2O</td>\n",
       "      <td>1.A.3.b</td>\n",
       "      <td>1.A.3.b - Road Transportation</td>\n",
       "      <td>1.A.3</td>\n",
       "      <td>Gg</td>\n",
       "      <td>2009</td>\n",
       "      <td>0.10775</td>\n",
       "      <td>NaN</td>\n",
       "      <td>20210616</td>\n",
       "      <td>EEA</td>\n",
       "    </tr>\n",
       "  </tbody>\n",
       "</table>\n",
       "</div>"
      ],
      "text/plain": [
       "  Country_code      Country                   Format_name  \\\n",
       "0           NL  Netherlands  IPCC Common Reporting Format   \n",
       "1           NL  Netherlands  IPCC Common Reporting Format   \n",
       "2           NL  Netherlands  IPCC Common Reporting Format   \n",
       "3           NL  Netherlands  IPCC Common Reporting Format   \n",
       "4           NL  Netherlands  IPCC Common Reporting Format   \n",
       "5           NL  Netherlands  IPCC Common Reporting Format   \n",
       "6           LT    Lithuania  IPCC Common Reporting Format   \n",
       "\n",
       "           Pollutant_name Sector_code                         Sector_name  \\\n",
       "0  SF6 - (CO2 equivalent)       2.E.2      2.E.2 - TFT Flat Panel Display   \n",
       "1  SF6 - (CO2 equivalent)       2.E.3               2.E.3 - Photovoltaics   \n",
       "2  SF6 - (CO2 equivalent)       2.E.3               2.E.3 - Photovoltaics   \n",
       "3  SF6 - (CO2 equivalent)       2.E.3               2.E.3 - Photovoltaics   \n",
       "4  SF6 - (CO2 equivalent)       2.E.5  2.E.5 - Other electronics industry   \n",
       "5  SF6 - (CO2 equivalent)       2.E.5  2.E.5 - Other electronics industry   \n",
       "6                     N2O     1.A.3.b       1.A.3.b - Road Transportation   \n",
       "\n",
       "  Parent_sector_code               Unit  Year  emissions Notation  \\\n",
       "0                2.E  Gg CO2 equivalent  2008        NaN       NO   \n",
       "1                2.E  Gg CO2 equivalent  1992        NaN       NO   \n",
       "2                2.E  Gg CO2 equivalent  2010        NaN       NO   \n",
       "3                2.E  Gg CO2 equivalent  2017        NaN       NO   \n",
       "4                2.E  Gg CO2 equivalent  1993        NaN       NO   \n",
       "5                2.E  Gg CO2 equivalent  2001        NaN       NO   \n",
       "6              1.A.3                 Gg  2009    0.10775      NaN   \n",
       "\n",
       "   PublicationDate DataSource  \n",
       "0         20210616        EEA  \n",
       "1         20210616        EEA  \n",
       "2         20210616        EEA  \n",
       "3         20210616        EEA  \n",
       "4         20210616        EEA  \n",
       "5         20210616        EEA  \n",
       "6         20210616        EEA  "
      ]
     },
     "execution_count": 3,
     "metadata": {},
     "output_type": "execute_result"
    }
   ],
   "source": [
    "data.head(7)"
   ]
  },
  {
   "cell_type": "code",
   "execution_count": 4,
   "metadata": {},
   "outputs": [
    {
     "data": {
      "text/html": [
       "<div>\n",
       "<style scoped>\n",
       "    .dataframe tbody tr th:only-of-type {\n",
       "        vertical-align: middle;\n",
       "    }\n",
       "\n",
       "    .dataframe tbody tr th {\n",
       "        vertical-align: top;\n",
       "    }\n",
       "\n",
       "    .dataframe thead th {\n",
       "        text-align: right;\n",
       "    }\n",
       "</style>\n",
       "<table border=\"1\" class=\"dataframe\">\n",
       "  <thead>\n",
       "    <tr style=\"text-align: right;\">\n",
       "      <th></th>\n",
       "      <th>Country_code</th>\n",
       "      <th>Country</th>\n",
       "      <th>Format_name</th>\n",
       "      <th>Pollutant_name</th>\n",
       "      <th>Sector_code</th>\n",
       "      <th>Sector_name</th>\n",
       "      <th>Parent_sector_code</th>\n",
       "      <th>Unit</th>\n",
       "      <th>Year</th>\n",
       "      <th>emissions</th>\n",
       "      <th>PublicationDate</th>\n",
       "      <th>DataSource</th>\n",
       "    </tr>\n",
       "  </thead>\n",
       "  <tbody>\n",
       "    <tr>\n",
       "      <th>0</th>\n",
       "      <td>NL</td>\n",
       "      <td>Netherlands</td>\n",
       "      <td>IPCC Common Reporting Format</td>\n",
       "      <td>SF6 - (CO2 equivalent)</td>\n",
       "      <td>2.E.2</td>\n",
       "      <td>2.E.2 - TFT Flat Panel Display</td>\n",
       "      <td>2.E</td>\n",
       "      <td>Gg CO2 equivalent</td>\n",
       "      <td>2008</td>\n",
       "      <td>NaN</td>\n",
       "      <td>20210616</td>\n",
       "      <td>EEA</td>\n",
       "    </tr>\n",
       "    <tr>\n",
       "      <th>1</th>\n",
       "      <td>NL</td>\n",
       "      <td>Netherlands</td>\n",
       "      <td>IPCC Common Reporting Format</td>\n",
       "      <td>SF6 - (CO2 equivalent)</td>\n",
       "      <td>2.E.3</td>\n",
       "      <td>2.E.3 - Photovoltaics</td>\n",
       "      <td>2.E</td>\n",
       "      <td>Gg CO2 equivalent</td>\n",
       "      <td>1992</td>\n",
       "      <td>NaN</td>\n",
       "      <td>20210616</td>\n",
       "      <td>EEA</td>\n",
       "    </tr>\n",
       "    <tr>\n",
       "      <th>2</th>\n",
       "      <td>NL</td>\n",
       "      <td>Netherlands</td>\n",
       "      <td>IPCC Common Reporting Format</td>\n",
       "      <td>SF6 - (CO2 equivalent)</td>\n",
       "      <td>2.E.3</td>\n",
       "      <td>2.E.3 - Photovoltaics</td>\n",
       "      <td>2.E</td>\n",
       "      <td>Gg CO2 equivalent</td>\n",
       "      <td>2010</td>\n",
       "      <td>NaN</td>\n",
       "      <td>20210616</td>\n",
       "      <td>EEA</td>\n",
       "    </tr>\n",
       "    <tr>\n",
       "      <th>3</th>\n",
       "      <td>NL</td>\n",
       "      <td>Netherlands</td>\n",
       "      <td>IPCC Common Reporting Format</td>\n",
       "      <td>SF6 - (CO2 equivalent)</td>\n",
       "      <td>2.E.3</td>\n",
       "      <td>2.E.3 - Photovoltaics</td>\n",
       "      <td>2.E</td>\n",
       "      <td>Gg CO2 equivalent</td>\n",
       "      <td>2017</td>\n",
       "      <td>NaN</td>\n",
       "      <td>20210616</td>\n",
       "      <td>EEA</td>\n",
       "    </tr>\n",
       "    <tr>\n",
       "      <th>4</th>\n",
       "      <td>NL</td>\n",
       "      <td>Netherlands</td>\n",
       "      <td>IPCC Common Reporting Format</td>\n",
       "      <td>SF6 - (CO2 equivalent)</td>\n",
       "      <td>2.E.5</td>\n",
       "      <td>2.E.5 - Other electronics industry</td>\n",
       "      <td>2.E</td>\n",
       "      <td>Gg CO2 equivalent</td>\n",
       "      <td>1993</td>\n",
       "      <td>NaN</td>\n",
       "      <td>20210616</td>\n",
       "      <td>EEA</td>\n",
       "    </tr>\n",
       "    <tr>\n",
       "      <th>5</th>\n",
       "      <td>NL</td>\n",
       "      <td>Netherlands</td>\n",
       "      <td>IPCC Common Reporting Format</td>\n",
       "      <td>SF6 - (CO2 equivalent)</td>\n",
       "      <td>2.E.5</td>\n",
       "      <td>2.E.5 - Other electronics industry</td>\n",
       "      <td>2.E</td>\n",
       "      <td>Gg CO2 equivalent</td>\n",
       "      <td>2001</td>\n",
       "      <td>NaN</td>\n",
       "      <td>20210616</td>\n",
       "      <td>EEA</td>\n",
       "    </tr>\n",
       "    <tr>\n",
       "      <th>6</th>\n",
       "      <td>LT</td>\n",
       "      <td>Lithuania</td>\n",
       "      <td>IPCC Common Reporting Format</td>\n",
       "      <td>N2O</td>\n",
       "      <td>1.A.3.b</td>\n",
       "      <td>1.A.3.b - Road Transportation</td>\n",
       "      <td>1.A.3</td>\n",
       "      <td>Gg</td>\n",
       "      <td>2009</td>\n",
       "      <td>0.10775</td>\n",
       "      <td>20210616</td>\n",
       "      <td>EEA</td>\n",
       "    </tr>\n",
       "  </tbody>\n",
       "</table>\n",
       "</div>"
      ],
      "text/plain": [
       "  Country_code      Country                   Format_name  \\\n",
       "0           NL  Netherlands  IPCC Common Reporting Format   \n",
       "1           NL  Netherlands  IPCC Common Reporting Format   \n",
       "2           NL  Netherlands  IPCC Common Reporting Format   \n",
       "3           NL  Netherlands  IPCC Common Reporting Format   \n",
       "4           NL  Netherlands  IPCC Common Reporting Format   \n",
       "5           NL  Netherlands  IPCC Common Reporting Format   \n",
       "6           LT    Lithuania  IPCC Common Reporting Format   \n",
       "\n",
       "           Pollutant_name Sector_code                         Sector_name  \\\n",
       "0  SF6 - (CO2 equivalent)       2.E.2      2.E.2 - TFT Flat Panel Display   \n",
       "1  SF6 - (CO2 equivalent)       2.E.3               2.E.3 - Photovoltaics   \n",
       "2  SF6 - (CO2 equivalent)       2.E.3               2.E.3 - Photovoltaics   \n",
       "3  SF6 - (CO2 equivalent)       2.E.3               2.E.3 - Photovoltaics   \n",
       "4  SF6 - (CO2 equivalent)       2.E.5  2.E.5 - Other electronics industry   \n",
       "5  SF6 - (CO2 equivalent)       2.E.5  2.E.5 - Other electronics industry   \n",
       "6                     N2O     1.A.3.b       1.A.3.b - Road Transportation   \n",
       "\n",
       "  Parent_sector_code               Unit  Year  emissions  PublicationDate  \\\n",
       "0                2.E  Gg CO2 equivalent  2008        NaN         20210616   \n",
       "1                2.E  Gg CO2 equivalent  1992        NaN         20210616   \n",
       "2                2.E  Gg CO2 equivalent  2010        NaN         20210616   \n",
       "3                2.E  Gg CO2 equivalent  2017        NaN         20210616   \n",
       "4                2.E  Gg CO2 equivalent  1993        NaN         20210616   \n",
       "5                2.E  Gg CO2 equivalent  2001        NaN         20210616   \n",
       "6              1.A.3                 Gg  2009    0.10775         20210616   \n",
       "\n",
       "  DataSource  \n",
       "0        EEA  \n",
       "1        EEA  \n",
       "2        EEA  \n",
       "3        EEA  \n",
       "4        EEA  \n",
       "5        EEA  \n",
       "6        EEA  "
      ]
     },
     "execution_count": 4,
     "metadata": {},
     "output_type": "execute_result"
    }
   ],
   "source": [
    "#removing the unnamed Column\n",
    "data.drop(columns='Notation' , axis = 1, inplace=True)\n",
    "data.head(7)"
   ]
  },
  {
   "cell_type": "code",
   "execution_count": 5,
   "metadata": {},
   "outputs": [
    {
     "data": {
      "text/plain": [
       "(686348, 12)"
      ]
     },
     "execution_count": 5,
     "metadata": {},
     "output_type": "execute_result"
    }
   ],
   "source": [
    "data.shape"
   ]
  },
  {
   "cell_type": "code",
   "execution_count": 6,
   "metadata": {},
   "outputs": [
    {
     "name": "stdout",
     "output_type": "stream",
     "text": [
      "<class 'pandas.core.frame.DataFrame'>\n",
      "RangeIndex: 686348 entries, 0 to 686347\n",
      "Data columns (total 12 columns):\n",
      " #   Column              Non-Null Count   Dtype  \n",
      "---  ------              --------------   -----  \n",
      " 0   Country_code        686348 non-null  object \n",
      " 1   Country             686348 non-null  object \n",
      " 2   Format_name         686348 non-null  object \n",
      " 3   Pollutant_name      686348 non-null  object \n",
      " 4   Sector_code         686348 non-null  object \n",
      " 5   Sector_name         686348 non-null  object \n",
      " 6   Parent_sector_code  628766 non-null  object \n",
      " 7   Unit                686348 non-null  object \n",
      " 8   Year                686348 non-null  object \n",
      " 9   emissions           426498 non-null  float64\n",
      " 10  PublicationDate     686348 non-null  int64  \n",
      " 11  DataSource          686348 non-null  object \n",
      "dtypes: float64(1), int64(1), object(10)\n",
      "memory usage: 62.8+ MB\n"
     ]
    }
   ],
   "source": [
    "data.info()"
   ]
  },
  {
   "cell_type": "code",
   "execution_count": 7,
   "metadata": {},
   "outputs": [
    {
     "data": {
      "text/plain": [
       "Country_code               0\n",
       "Country                    0\n",
       "Format_name                0\n",
       "Pollutant_name             0\n",
       "Sector_code                0\n",
       "Sector_name                0\n",
       "Parent_sector_code     57582\n",
       "Unit                       0\n",
       "Year                       0\n",
       "emissions             259850\n",
       "PublicationDate            0\n",
       "DataSource                 0\n",
       "dtype: int64"
      ]
     },
     "execution_count": 7,
     "metadata": {},
     "output_type": "execute_result"
    }
   ],
   "source": [
    "# checking for missing values\n",
    "data.isnull().sum()"
   ]
  },
  {
   "cell_type": "markdown",
   "metadata": {},
   "source": [
    "On a 37,85% de données manquantes pour les quatitées d'émission\n",
    "et 8,38% de données manquantes pour les Parent_sector_code"
   ]
  },
  {
   "cell_type": "code",
   "execution_count": 8,
   "metadata": {},
   "outputs": [
    {
     "data": {
      "text/html": [
       "<div>\n",
       "<style scoped>\n",
       "    .dataframe tbody tr th:only-of-type {\n",
       "        vertical-align: middle;\n",
       "    }\n",
       "\n",
       "    .dataframe tbody tr th {\n",
       "        vertical-align: top;\n",
       "    }\n",
       "\n",
       "    .dataframe thead th {\n",
       "        text-align: right;\n",
       "    }\n",
       "</style>\n",
       "<table border=\"1\" class=\"dataframe\">\n",
       "  <thead>\n",
       "    <tr style=\"text-align: right;\">\n",
       "      <th></th>\n",
       "      <th>emissions</th>\n",
       "      <th>PublicationDate</th>\n",
       "    </tr>\n",
       "  </thead>\n",
       "  <tbody>\n",
       "    <tr>\n",
       "      <th>count</th>\n",
       "      <td>4.264980e+05</td>\n",
       "      <td>686348.0</td>\n",
       "    </tr>\n",
       "    <tr>\n",
       "      <th>mean</th>\n",
       "      <td>2.549875e+04</td>\n",
       "      <td>20210616.0</td>\n",
       "    </tr>\n",
       "    <tr>\n",
       "      <th>std</th>\n",
       "      <td>2.517595e+05</td>\n",
       "      <td>0.0</td>\n",
       "    </tr>\n",
       "    <tr>\n",
       "      <th>min</th>\n",
       "      <td>-4.673036e+05</td>\n",
       "      <td>20210616.0</td>\n",
       "    </tr>\n",
       "    <tr>\n",
       "      <th>25%</th>\n",
       "      <td>4.483300e-01</td>\n",
       "      <td>20210616.0</td>\n",
       "    </tr>\n",
       "    <tr>\n",
       "      <th>50%</th>\n",
       "      <td>4.070052e+01</td>\n",
       "      <td>20210616.0</td>\n",
       "    </tr>\n",
       "    <tr>\n",
       "      <th>75%</th>\n",
       "      <td>1.109751e+03</td>\n",
       "      <td>20210616.0</td>\n",
       "    </tr>\n",
       "    <tr>\n",
       "      <th>max</th>\n",
       "      <td>5.849394e+06</td>\n",
       "      <td>20210616.0</td>\n",
       "    </tr>\n",
       "  </tbody>\n",
       "</table>\n",
       "</div>"
      ],
      "text/plain": [
       "          emissions  PublicationDate\n",
       "count  4.264980e+05         686348.0\n",
       "mean   2.549875e+04       20210616.0\n",
       "std    2.517595e+05              0.0\n",
       "min   -4.673036e+05       20210616.0\n",
       "25%    4.483300e-01       20210616.0\n",
       "50%    4.070052e+01       20210616.0\n",
       "75%    1.109751e+03       20210616.0\n",
       "max    5.849394e+06       20210616.0"
      ]
     },
     "execution_count": 8,
     "metadata": {},
     "output_type": "execute_result"
    }
   ],
   "source": [
    "data.describe()"
   ]
  },
  {
   "cell_type": "code",
   "execution_count": 9,
   "metadata": {},
   "outputs": [
    {
     "data": {
      "text/plain": [
       " 0.00000        955\n",
       " 0.00001        717\n",
       " 0.00002        601\n",
       " 0.00005        410\n",
       " 24.96794       404\n",
       "               ... \n",
       "-20474.65619      1\n",
       "-21510.69465      1\n",
       " 12773.20649      1\n",
       " 1203.99933       1\n",
       " 0.23575          1\n",
       "Name: emissions, Length: 281411, dtype: int64"
      ]
     },
     "execution_count": 9,
     "metadata": {},
     "output_type": "execute_result"
    }
   ],
   "source": [
    "data['emissions'].value_counts()"
   ]
  },
  {
   "cell_type": "code",
   "execution_count": 10,
   "metadata": {},
   "outputs": [
    {
     "data": {
      "text/plain": [
       "Hungary                        24408\n",
       "Slovenia                       21896\n",
       "Romania                        21801\n",
       "Spain                          20610\n",
       "Ireland                        20610\n",
       "Lithuania                      20606\n",
       "Poland                         20564\n",
       "Denmark                        20460\n",
       "Slovakia                       20430\n",
       "Finland                        20222\n",
       "Estonia                        20052\n",
       "United Kingdom (Convention)    20010\n",
       "Bulgaria                       19831\n",
       "EU (KP)                        19590\n",
       "EU-27                          19590\n",
       "EU-27+UK                       19590\n",
       "Netherlands                    19470\n",
       "Germany                        19440\n",
       "France                         19401\n",
       "Czechia                        19369\n",
       "Portugal                       19290\n",
       "Belgium                        19110\n",
       "Malta                          19095\n",
       "Cyprus                         19077\n",
       "Italy                          18990\n",
       "Latvia                         18990\n",
       "Croatia                        18900\n",
       "Greece                         18876\n",
       "Iceland                        18603\n",
       "Switzerland                    18360\n",
       "Luxembourg                     18300\n",
       "Norway                         18240\n",
       "Austria                        18190\n",
       "Turkey                         17277\n",
       "Sweden                         17100\n",
       "Name: Country, dtype: int64"
      ]
     },
     "execution_count": 10,
     "metadata": {},
     "output_type": "execute_result"
    }
   ],
   "source": [
    "data['Country'].value_counts()"
   ]
  },
  {
   "cell_type": "code",
   "execution_count": 11,
   "metadata": {},
   "outputs": [
    {
     "data": {
      "text/plain": [
       "IPCC Common Reporting Format    686348\n",
       "Name: Format_name, dtype: int64"
      ]
     },
     "execution_count": 11,
     "metadata": {},
     "output_type": "execute_result"
    }
   ],
   "source": [
    "data['Format_name'].value_counts()"
   ]
  },
  {
   "cell_type": "code",
   "execution_count": 12,
   "metadata": {},
   "outputs": [
    {
     "data": {
      "text/plain": [
       "All greenhouse gases - (CO2 equivalent)                180335\n",
       "CH4                                                    136493\n",
       "CO2                                                    128506\n",
       "N2O                                                    126180\n",
       "HFCs - (CO2 equivalent)                                 25821\n",
       "PFCs - (CO2 equivalent)                                 24390\n",
       "SF6 - (CO2 equivalent)                                  22987\n",
       "Unspecified mix of HFCs and PFCs - (CO2 equivalent)     21536\n",
       "NF3 - (CO2 equivalent)                                  20100\n",
       "Name: Pollutant_name, dtype: int64"
      ]
     },
     "execution_count": 12,
     "metadata": {},
     "output_type": "execute_result"
    }
   ],
   "source": [
    "data['Pollutant_name'].value_counts()"
   ]
  },
  {
   "cell_type": "code",
   "execution_count": 13,
   "metadata": {},
   "outputs": [
    {
     "data": {
      "text/plain": [
       "Gg                   391179\n",
       "Gg CO2 equivalent    295169\n",
       "Name: Unit, dtype: int64"
      ]
     },
     "execution_count": 13,
     "metadata": {},
     "output_type": "execute_result"
    }
   ],
   "source": [
    "data['Unit'].value_counts()"
   ]
  },
  {
   "cell_type": "code",
   "execution_count": 15,
   "metadata": {},
   "outputs": [
    {
     "data": {
      "text/plain": [
       "EEA    686348\n",
       "Name: DataSource, dtype: int64"
      ]
     },
     "execution_count": 15,
     "metadata": {},
     "output_type": "execute_result"
    }
   ],
   "source": [
    "data['DataSource'].value_counts()"
   ]
  },
  {
   "cell_type": "code",
   "execution_count": 14,
   "metadata": {},
   "outputs": [
    {
     "data": {
      "text/plain": [
       "20210616    686348\n",
       "Name: PublicationDate, dtype: int64"
      ]
     },
     "execution_count": 14,
     "metadata": {},
     "output_type": "execute_result"
    }
   ],
   "source": [
    "data['PublicationDate'].value_counts()"
   ]
  },
  {
   "cell_type": "code",
   "execution_count": 17,
   "metadata": {},
   "outputs": [
    {
     "data": {
      "text/plain": [
       "2                           50594\n",
       "2.B                         37785\n",
       "Sectors/Totals_incl_incl    37452\n",
       "4                           34218\n",
       "1.A.2                       29820\n",
       "2.C                         26406\n",
       "3                           25161\n",
       "1.AA                        21300\n",
       "1.A.3                       21300\n",
       "2.E                         20976\n",
       "1.A.3.b                     20816\n",
       "2.F                         19574\n",
       "5                           18105\n",
       "3.F                         15705\n",
       "3.B                         14910\n",
       "4.D                         12828\n",
       "4.A                         12828\n",
       "4.C                         12798\n",
       "4.B                         12798\n",
       "2.D                         12780\n",
       "1.A.4                       12780\n",
       "1.A.1                       12780\n",
       "4.E                         12620\n",
       "1.D                         10650\n",
       "1                           10650\n",
       "4.F                         10450\n",
       "5.A                          9585\n",
       "5.D                          9582\n",
       "2.A                          8520\n",
       "5.C                          8520\n",
       "1.D.1                        8520\n",
       "1.B                          8520\n",
       "3.A                          8520\n",
       "1.A.5                        8400\n",
       "3.C                          8156\n",
       "5.B                          6390\n",
       "5.F                          6384\n",
       "3.1                          5325\n",
       "3.D                          4260\n",
       "Name: Parent_sector_code, dtype: int64"
      ]
     },
     "execution_count": 17,
     "metadata": {},
     "output_type": "execute_result"
    }
   ],
   "source": [
    "data['Parent_sector_code'].value_counts()"
   ]
  },
  {
   "cell_type": "markdown",
   "metadata": {},
   "source": [
    "**Encoding categorical data**"
   ]
  },
  {
   "cell_type": "code",
   "execution_count": 18,
   "metadata": {},
   "outputs": [],
   "source": [
    "# encoding \"Format_name\" Column\n",
    "data.replace({'Format_name':{'IPCC Common Reporting Format':0}},inplace=True)"
   ]
  },
  {
   "cell_type": "code",
   "execution_count": 19,
   "metadata": {},
   "outputs": [],
   "source": [
    "# encoding \"Pollutant_name\" Column\n",
    "data.replace({'Pollutant_name':{'All greenhouse gases - (CO2 equivalent)':0, 'CH4':1, 'CO2':2, 'N2O':3, 'HFCs - (CO2 equivalent)':4, 'PFCs - (CO2 equivalent)':5, 'SF6 - (CO2 equivalent)':6, 'Unspecified mix of HFCs and PFCs - (CO2 equivalent)':7, 'NF3 - (CO2 equivalent)':8}},inplace=True)"
   ]
  },
  {
   "cell_type": "code",
   "execution_count": 20,
   "metadata": {},
   "outputs": [],
   "source": [
    "# encoding \"Unit\" Column\n",
    "data.replace({'Unit':{'Gg':0, 'Gg CO2 equivalent':1}},inplace=True)"
   ]
  },
  {
   "cell_type": "code",
   "execution_count": 21,
   "metadata": {},
   "outputs": [],
   "source": [
    "# encoding \"DataSource\" Column\n",
    "data.replace({'DataSource':{'EEA':0}},inplace=True)"
   ]
  },
  {
   "cell_type": "code",
   "execution_count": 22,
   "metadata": {},
   "outputs": [],
   "source": [
    "# encoding \"PublicationDate\" Column\n",
    "data.replace({'PublicationDate':{20210616:0}},inplace=True)"
   ]
  },
  {
   "cell_type": "code",
   "execution_count": 23,
   "metadata": {},
   "outputs": [
    {
     "data": {
      "text/html": [
       "<div>\n",
       "<style scoped>\n",
       "    .dataframe tbody tr th:only-of-type {\n",
       "        vertical-align: middle;\n",
       "    }\n",
       "\n",
       "    .dataframe tbody tr th {\n",
       "        vertical-align: top;\n",
       "    }\n",
       "\n",
       "    .dataframe thead th {\n",
       "        text-align: right;\n",
       "    }\n",
       "</style>\n",
       "<table border=\"1\" class=\"dataframe\">\n",
       "  <thead>\n",
       "    <tr style=\"text-align: right;\">\n",
       "      <th></th>\n",
       "      <th>Country_code</th>\n",
       "      <th>Country</th>\n",
       "      <th>Format_name</th>\n",
       "      <th>Pollutant_name</th>\n",
       "      <th>Sector_code</th>\n",
       "      <th>Sector_name</th>\n",
       "      <th>Parent_sector_code</th>\n",
       "      <th>Unit</th>\n",
       "      <th>Year</th>\n",
       "      <th>emissions</th>\n",
       "      <th>PublicationDate</th>\n",
       "      <th>DataSource</th>\n",
       "    </tr>\n",
       "  </thead>\n",
       "  <tbody>\n",
       "    <tr>\n",
       "      <th>0</th>\n",
       "      <td>NL</td>\n",
       "      <td>Netherlands</td>\n",
       "      <td>0</td>\n",
       "      <td>6</td>\n",
       "      <td>2.E.2</td>\n",
       "      <td>2.E.2 - TFT Flat Panel Display</td>\n",
       "      <td>2.E</td>\n",
       "      <td>1</td>\n",
       "      <td>2008</td>\n",
       "      <td>NaN</td>\n",
       "      <td>0</td>\n",
       "      <td>0</td>\n",
       "    </tr>\n",
       "    <tr>\n",
       "      <th>1</th>\n",
       "      <td>NL</td>\n",
       "      <td>Netherlands</td>\n",
       "      <td>0</td>\n",
       "      <td>6</td>\n",
       "      <td>2.E.3</td>\n",
       "      <td>2.E.3 - Photovoltaics</td>\n",
       "      <td>2.E</td>\n",
       "      <td>1</td>\n",
       "      <td>1992</td>\n",
       "      <td>NaN</td>\n",
       "      <td>0</td>\n",
       "      <td>0</td>\n",
       "    </tr>\n",
       "    <tr>\n",
       "      <th>2</th>\n",
       "      <td>NL</td>\n",
       "      <td>Netherlands</td>\n",
       "      <td>0</td>\n",
       "      <td>6</td>\n",
       "      <td>2.E.3</td>\n",
       "      <td>2.E.3 - Photovoltaics</td>\n",
       "      <td>2.E</td>\n",
       "      <td>1</td>\n",
       "      <td>2010</td>\n",
       "      <td>NaN</td>\n",
       "      <td>0</td>\n",
       "      <td>0</td>\n",
       "    </tr>\n",
       "    <tr>\n",
       "      <th>3</th>\n",
       "      <td>NL</td>\n",
       "      <td>Netherlands</td>\n",
       "      <td>0</td>\n",
       "      <td>6</td>\n",
       "      <td>2.E.3</td>\n",
       "      <td>2.E.3 - Photovoltaics</td>\n",
       "      <td>2.E</td>\n",
       "      <td>1</td>\n",
       "      <td>2017</td>\n",
       "      <td>NaN</td>\n",
       "      <td>0</td>\n",
       "      <td>0</td>\n",
       "    </tr>\n",
       "    <tr>\n",
       "      <th>4</th>\n",
       "      <td>NL</td>\n",
       "      <td>Netherlands</td>\n",
       "      <td>0</td>\n",
       "      <td>6</td>\n",
       "      <td>2.E.5</td>\n",
       "      <td>2.E.5 - Other electronics industry</td>\n",
       "      <td>2.E</td>\n",
       "      <td>1</td>\n",
       "      <td>1993</td>\n",
       "      <td>NaN</td>\n",
       "      <td>0</td>\n",
       "      <td>0</td>\n",
       "    </tr>\n",
       "    <tr>\n",
       "      <th>5</th>\n",
       "      <td>NL</td>\n",
       "      <td>Netherlands</td>\n",
       "      <td>0</td>\n",
       "      <td>6</td>\n",
       "      <td>2.E.5</td>\n",
       "      <td>2.E.5 - Other electronics industry</td>\n",
       "      <td>2.E</td>\n",
       "      <td>1</td>\n",
       "      <td>2001</td>\n",
       "      <td>NaN</td>\n",
       "      <td>0</td>\n",
       "      <td>0</td>\n",
       "    </tr>\n",
       "    <tr>\n",
       "      <th>6</th>\n",
       "      <td>LT</td>\n",
       "      <td>Lithuania</td>\n",
       "      <td>0</td>\n",
       "      <td>3</td>\n",
       "      <td>1.A.3.b</td>\n",
       "      <td>1.A.3.b - Road Transportation</td>\n",
       "      <td>1.A.3</td>\n",
       "      <td>0</td>\n",
       "      <td>2009</td>\n",
       "      <td>0.10775</td>\n",
       "      <td>0</td>\n",
       "      <td>0</td>\n",
       "    </tr>\n",
       "    <tr>\n",
       "      <th>7</th>\n",
       "      <td>LT</td>\n",
       "      <td>Lithuania</td>\n",
       "      <td>0</td>\n",
       "      <td>3</td>\n",
       "      <td>1.A.3.b.i</td>\n",
       "      <td>1.A.3.b.i - Cars</td>\n",
       "      <td>1.A.3.b</td>\n",
       "      <td>0</td>\n",
       "      <td>2009</td>\n",
       "      <td>0.08124</td>\n",
       "      <td>0</td>\n",
       "      <td>0</td>\n",
       "    </tr>\n",
       "  </tbody>\n",
       "</table>\n",
       "</div>"
      ],
      "text/plain": [
       "  Country_code      Country  Format_name  Pollutant_name Sector_code  \\\n",
       "0           NL  Netherlands            0               6       2.E.2   \n",
       "1           NL  Netherlands            0               6       2.E.3   \n",
       "2           NL  Netherlands            0               6       2.E.3   \n",
       "3           NL  Netherlands            0               6       2.E.3   \n",
       "4           NL  Netherlands            0               6       2.E.5   \n",
       "5           NL  Netherlands            0               6       2.E.5   \n",
       "6           LT    Lithuania            0               3     1.A.3.b   \n",
       "7           LT    Lithuania            0               3   1.A.3.b.i   \n",
       "\n",
       "                          Sector_name Parent_sector_code  Unit  Year  \\\n",
       "0      2.E.2 - TFT Flat Panel Display                2.E     1  2008   \n",
       "1               2.E.3 - Photovoltaics                2.E     1  1992   \n",
       "2               2.E.3 - Photovoltaics                2.E     1  2010   \n",
       "3               2.E.3 - Photovoltaics                2.E     1  2017   \n",
       "4  2.E.5 - Other electronics industry                2.E     1  1993   \n",
       "5  2.E.5 - Other electronics industry                2.E     1  2001   \n",
       "6       1.A.3.b - Road Transportation              1.A.3     0  2009   \n",
       "7                    1.A.3.b.i - Cars            1.A.3.b     0  2009   \n",
       "\n",
       "   emissions  PublicationDate  DataSource  \n",
       "0        NaN                0           0  \n",
       "1        NaN                0           0  \n",
       "2        NaN                0           0  \n",
       "3        NaN                0           0  \n",
       "4        NaN                0           0  \n",
       "5        NaN                0           0  \n",
       "6    0.10775                0           0  \n",
       "7    0.08124                0           0  "
      ]
     },
     "execution_count": 23,
     "metadata": {},
     "output_type": "execute_result"
    }
   ],
   "source": [
    "data.head(8)"
   ]
  },
  {
   "cell_type": "markdown",
   "metadata": {},
   "source": [
    "**Replacing the missing values**"
   ]
  },
  {
   "cell_type": "code",
   "execution_count": 24,
   "metadata": {},
   "outputs": [],
   "source": [
    "#replacing the missing values of the column \"emissions\" with the mean value\n",
    "moyenne = data['emissions'].mean()\n",
    "data['emissions'].fillna(moyenne,inplace=True)"
   ]
  },
  {
   "cell_type": "code",
   "execution_count": 25,
   "metadata": {},
   "outputs": [
    {
     "data": {
      "text/html": [
       "<div>\n",
       "<style scoped>\n",
       "    .dataframe tbody tr th:only-of-type {\n",
       "        vertical-align: middle;\n",
       "    }\n",
       "\n",
       "    .dataframe tbody tr th {\n",
       "        vertical-align: top;\n",
       "    }\n",
       "\n",
       "    .dataframe thead th {\n",
       "        text-align: right;\n",
       "    }\n",
       "</style>\n",
       "<table border=\"1\" class=\"dataframe\">\n",
       "  <thead>\n",
       "    <tr style=\"text-align: right;\">\n",
       "      <th></th>\n",
       "      <th>Country_code</th>\n",
       "      <th>Country</th>\n",
       "      <th>Format_name</th>\n",
       "      <th>Pollutant_name</th>\n",
       "      <th>Sector_code</th>\n",
       "      <th>Sector_name</th>\n",
       "      <th>Parent_sector_code</th>\n",
       "      <th>Unit</th>\n",
       "      <th>Year</th>\n",
       "      <th>emissions</th>\n",
       "      <th>PublicationDate</th>\n",
       "      <th>DataSource</th>\n",
       "    </tr>\n",
       "  </thead>\n",
       "  <tbody>\n",
       "    <tr>\n",
       "      <th>0</th>\n",
       "      <td>NL</td>\n",
       "      <td>Netherlands</td>\n",
       "      <td>0</td>\n",
       "      <td>6</td>\n",
       "      <td>2.E.2</td>\n",
       "      <td>2.E.2 - TFT Flat Panel Display</td>\n",
       "      <td>2.E</td>\n",
       "      <td>1</td>\n",
       "      <td>2008</td>\n",
       "      <td>25498.74795</td>\n",
       "      <td>0</td>\n",
       "      <td>0</td>\n",
       "    </tr>\n",
       "    <tr>\n",
       "      <th>1</th>\n",
       "      <td>NL</td>\n",
       "      <td>Netherlands</td>\n",
       "      <td>0</td>\n",
       "      <td>6</td>\n",
       "      <td>2.E.3</td>\n",
       "      <td>2.E.3 - Photovoltaics</td>\n",
       "      <td>2.E</td>\n",
       "      <td>1</td>\n",
       "      <td>1992</td>\n",
       "      <td>25498.74795</td>\n",
       "      <td>0</td>\n",
       "      <td>0</td>\n",
       "    </tr>\n",
       "    <tr>\n",
       "      <th>2</th>\n",
       "      <td>NL</td>\n",
       "      <td>Netherlands</td>\n",
       "      <td>0</td>\n",
       "      <td>6</td>\n",
       "      <td>2.E.3</td>\n",
       "      <td>2.E.3 - Photovoltaics</td>\n",
       "      <td>2.E</td>\n",
       "      <td>1</td>\n",
       "      <td>2010</td>\n",
       "      <td>25498.74795</td>\n",
       "      <td>0</td>\n",
       "      <td>0</td>\n",
       "    </tr>\n",
       "    <tr>\n",
       "      <th>3</th>\n",
       "      <td>NL</td>\n",
       "      <td>Netherlands</td>\n",
       "      <td>0</td>\n",
       "      <td>6</td>\n",
       "      <td>2.E.3</td>\n",
       "      <td>2.E.3 - Photovoltaics</td>\n",
       "      <td>2.E</td>\n",
       "      <td>1</td>\n",
       "      <td>2017</td>\n",
       "      <td>25498.74795</td>\n",
       "      <td>0</td>\n",
       "      <td>0</td>\n",
       "    </tr>\n",
       "    <tr>\n",
       "      <th>4</th>\n",
       "      <td>NL</td>\n",
       "      <td>Netherlands</td>\n",
       "      <td>0</td>\n",
       "      <td>6</td>\n",
       "      <td>2.E.5</td>\n",
       "      <td>2.E.5 - Other electronics industry</td>\n",
       "      <td>2.E</td>\n",
       "      <td>1</td>\n",
       "      <td>1993</td>\n",
       "      <td>25498.74795</td>\n",
       "      <td>0</td>\n",
       "      <td>0</td>\n",
       "    </tr>\n",
       "  </tbody>\n",
       "</table>\n",
       "</div>"
      ],
      "text/plain": [
       "  Country_code      Country  Format_name  Pollutant_name Sector_code  \\\n",
       "0           NL  Netherlands            0               6       2.E.2   \n",
       "1           NL  Netherlands            0               6       2.E.3   \n",
       "2           NL  Netherlands            0               6       2.E.3   \n",
       "3           NL  Netherlands            0               6       2.E.3   \n",
       "4           NL  Netherlands            0               6       2.E.5   \n",
       "\n",
       "                          Sector_name Parent_sector_code  Unit  Year  \\\n",
       "0      2.E.2 - TFT Flat Panel Display                2.E     1  2008   \n",
       "1               2.E.3 - Photovoltaics                2.E     1  1992   \n",
       "2               2.E.3 - Photovoltaics                2.E     1  2010   \n",
       "3               2.E.3 - Photovoltaics                2.E     1  2017   \n",
       "4  2.E.5 - Other electronics industry                2.E     1  1993   \n",
       "\n",
       "     emissions  PublicationDate  DataSource  \n",
       "0  25498.74795                0           0  \n",
       "1  25498.74795                0           0  \n",
       "2  25498.74795                0           0  \n",
       "3  25498.74795                0           0  \n",
       "4  25498.74795                0           0  "
      ]
     },
     "execution_count": 25,
     "metadata": {},
     "output_type": "execute_result"
    }
   ],
   "source": [
    "data.head()"
   ]
  },
  {
   "cell_type": "code",
   "execution_count": 26,
   "metadata": {},
   "outputs": [],
   "source": [
    "#replacing the missing values of the column \"Parent_sector_code\" with the most frequent value\n",
    "data = data.fillna(data['Parent_sector_code'].value_counts().index[0])"
   ]
  },
  {
   "cell_type": "code",
   "execution_count": 27,
   "metadata": {},
   "outputs": [
    {
     "data": {
      "text/plain": [
       "Country_code          0\n",
       "Country               0\n",
       "Format_name           0\n",
       "Pollutant_name        0\n",
       "Sector_code           0\n",
       "Sector_name           0\n",
       "Parent_sector_code    0\n",
       "Unit                  0\n",
       "Year                  0\n",
       "emissions             0\n",
       "PublicationDate       0\n",
       "DataSource            0\n",
       "dtype: int64"
      ]
     },
     "execution_count": 27,
     "metadata": {},
     "output_type": "execute_result"
    }
   ],
   "source": [
    "data.isnull().sum()"
   ]
  },
  {
   "cell_type": "markdown",
   "metadata": {},
   "source": [
    "=> Il n'y a pas encore de valeurs manquantes "
   ]
  },
  {
   "cell_type": "markdown",
   "metadata": {},
   "source": [
    "**Separating the data and labels**"
   ]
  },
  {
   "cell_type": "code",
   "execution_count": 28,
   "metadata": {},
   "outputs": [],
   "source": [
    "X =data.drop(['emissions'],axis=1) \n",
    "Y =data['emissions']"
   ]
  },
  {
   "cell_type": "code",
   "execution_count": 29,
   "metadata": {},
   "outputs": [
    {
     "name": "stdout",
     "output_type": "stream",
     "text": [
      "       Country_code      Country  Format_name  Pollutant_name Sector_code  \\\n",
      "0                NL  Netherlands            0               6       2.E.2   \n",
      "1                NL  Netherlands            0               6       2.E.3   \n",
      "2                NL  Netherlands            0               6       2.E.3   \n",
      "3                NL  Netherlands            0               6       2.E.3   \n",
      "4                NL  Netherlands            0               6       2.E.5   \n",
      "...             ...          ...          ...             ...         ...   \n",
      "686343           NL  Netherlands            0               6         2.E   \n",
      "686344           NL  Netherlands            0               6       2.E.1   \n",
      "686345           NL  Netherlands            0               6       2.E.1   \n",
      "686346           NL  Netherlands            0               6       2.E.2   \n",
      "686347           NL  Netherlands            0               6       2.E.2   \n",
      "\n",
      "                                        Sector_name Parent_sector_code  Unit  \\\n",
      "0                    2.E.2 - TFT Flat Panel Display                2.E     1   \n",
      "1                             2.E.3 - Photovoltaics                2.E     1   \n",
      "2                             2.E.3 - Photovoltaics                2.E     1   \n",
      "3                             2.E.3 - Photovoltaics                2.E     1   \n",
      "4                2.E.5 - Other electronics industry                2.E     1   \n",
      "...                                             ...                ...   ...   \n",
      "686343                   2.E - Electronics Industry                  2     1   \n",
      "686344  2.E.1 - Integrated Circuit or Semiconductor                2.E     1   \n",
      "686345  2.E.1 - Integrated Circuit or Semiconductor                2.E     1   \n",
      "686346               2.E.2 - TFT Flat Panel Display                2.E     1   \n",
      "686347               2.E.2 - TFT Flat Panel Display                2.E     1   \n",
      "\n",
      "        Year  PublicationDate  DataSource  \n",
      "0       2008                0           0  \n",
      "1       1992                0           0  \n",
      "2       2010                0           0  \n",
      "3       2017                0           0  \n",
      "4       1993                0           0  \n",
      "...      ...              ...         ...  \n",
      "686343  1994                0           0  \n",
      "686344  1990                0           0  \n",
      "686345  2016                0           0  \n",
      "686346  2003                0           0  \n",
      "686347  2007                0           0  \n",
      "\n",
      "[686348 rows x 11 columns]\n"
     ]
    }
   ],
   "source": [
    "print(X)"
   ]
  },
  {
   "cell_type": "code",
   "execution_count": 30,
   "metadata": {},
   "outputs": [
    {
     "name": "stdout",
     "output_type": "stream",
     "text": [
      "0         25498.74795\n",
      "1         25498.74795\n",
      "2         25498.74795\n",
      "3         25498.74795\n",
      "4         25498.74795\n",
      "             ...     \n",
      "686343    25498.74795\n",
      "686344    25498.74795\n",
      "686345    25498.74795\n",
      "686346    25498.74795\n",
      "686347    25498.74795\n",
      "Name: emissions, Length: 686348, dtype: float64\n"
     ]
    }
   ],
   "source": [
    "print(Y)"
   ]
  },
  {
   "cell_type": "code",
   "execution_count": 31,
   "metadata": {},
   "outputs": [],
   "source": [
    "X = X.apply(pd.to_numeric, errors='coerce')\n",
    "Y = Y.apply(pd.to_numeric, errors='coerce')"
   ]
  },
  {
   "cell_type": "code",
   "execution_count": 32,
   "metadata": {},
   "outputs": [],
   "source": [
    "X.fillna(0, inplace=True)\n",
    "Y.fillna(0, inplace=True)"
   ]
  },
  {
   "cell_type": "markdown",
   "metadata": {},
   "source": [
    "**Splitting Training and Test Data**"
   ]
  },
  {
   "cell_type": "code",
   "execution_count": 33,
   "metadata": {},
   "outputs": [],
   "source": [
    "X_train, X_test, Y_train, Y_test = train_test_split(X, Y, test_size=0.3, random_state=2) #80% will be trained data and 20% will be testing data "
   ]
  },
  {
   "cell_type": "code",
   "execution_count": 34,
   "metadata": {},
   "outputs": [
    {
     "name": "stdout",
     "output_type": "stream",
     "text": [
      "(686348, 11) (480443, 11) (205905, 11)\n"
     ]
    }
   ],
   "source": [
    "print(X.shape, X_train.shape, X_test.shape)"
   ]
  },
  {
   "cell_type": "code",
   "execution_count": 35,
   "metadata": {},
   "outputs": [],
   "source": [
    "from sklearn.preprocessing import LabelEncoder\n",
    "le=LabelEncoder()\n",
    "data['Country_code']=le.fit_transform(data['Country_code'])\n",
    "data['Country']=le.fit_transform(data['Country'])\n",
    "data['Sector_code']=le.fit_transform(data['Sector_code'])\n",
    "data['Sector_name']=le.fit_transform(data['Sector_name'])\n",
    "data['Parent_sector_code']=le.fit_transform(data['Parent_sector_code'])"
   ]
  },
  {
   "cell_type": "code",
   "execution_count": 50,
   "metadata": {},
   "outputs": [
    {
     "data": {
      "text/html": [
       "<div>\n",
       "<style scoped>\n",
       "    .dataframe tbody tr th:only-of-type {\n",
       "        vertical-align: middle;\n",
       "    }\n",
       "\n",
       "    .dataframe tbody tr th {\n",
       "        vertical-align: top;\n",
       "    }\n",
       "\n",
       "    .dataframe thead th {\n",
       "        text-align: right;\n",
       "    }\n",
       "</style>\n",
       "<table border=\"1\" class=\"dataframe\">\n",
       "  <thead>\n",
       "    <tr style=\"text-align: right;\">\n",
       "      <th></th>\n",
       "      <th>Country_code</th>\n",
       "      <th>Country</th>\n",
       "      <th>Format_name</th>\n",
       "      <th>Pollutant_name</th>\n",
       "      <th>Sector_code</th>\n",
       "      <th>Sector_name</th>\n",
       "      <th>Parent_sector_code</th>\n",
       "      <th>Unit</th>\n",
       "      <th>Year</th>\n",
       "      <th>emissions</th>\n",
       "      <th>PublicationDate</th>\n",
       "      <th>DataSource</th>\n",
       "    </tr>\n",
       "  </thead>\n",
       "  <tbody>\n",
       "    <tr>\n",
       "      <th>0</th>\n",
       "      <td>25</td>\n",
       "      <td>23</td>\n",
       "      <td>0</td>\n",
       "      <td>6</td>\n",
       "      <td>73</td>\n",
       "      <td>73</td>\n",
       "      <td>16</td>\n",
       "      <td>1</td>\n",
       "      <td>2008</td>\n",
       "      <td>25498.74795</td>\n",
       "      <td>0</td>\n",
       "      <td>0</td>\n",
       "    </tr>\n",
       "    <tr>\n",
       "      <th>1</th>\n",
       "      <td>25</td>\n",
       "      <td>23</td>\n",
       "      <td>0</td>\n",
       "      <td>6</td>\n",
       "      <td>74</td>\n",
       "      <td>74</td>\n",
       "      <td>16</td>\n",
       "      <td>1</td>\n",
       "      <td>1992</td>\n",
       "      <td>25498.74795</td>\n",
       "      <td>0</td>\n",
       "      <td>0</td>\n",
       "    </tr>\n",
       "    <tr>\n",
       "      <th>2</th>\n",
       "      <td>25</td>\n",
       "      <td>23</td>\n",
       "      <td>0</td>\n",
       "      <td>6</td>\n",
       "      <td>74</td>\n",
       "      <td>74</td>\n",
       "      <td>16</td>\n",
       "      <td>1</td>\n",
       "      <td>2010</td>\n",
       "      <td>25498.74795</td>\n",
       "      <td>0</td>\n",
       "      <td>0</td>\n",
       "    </tr>\n",
       "    <tr>\n",
       "      <th>3</th>\n",
       "      <td>25</td>\n",
       "      <td>23</td>\n",
       "      <td>0</td>\n",
       "      <td>6</td>\n",
       "      <td>74</td>\n",
       "      <td>74</td>\n",
       "      <td>16</td>\n",
       "      <td>1</td>\n",
       "      <td>2017</td>\n",
       "      <td>25498.74795</td>\n",
       "      <td>0</td>\n",
       "      <td>0</td>\n",
       "    </tr>\n",
       "    <tr>\n",
       "      <th>4</th>\n",
       "      <td>25</td>\n",
       "      <td>23</td>\n",
       "      <td>0</td>\n",
       "      <td>6</td>\n",
       "      <td>76</td>\n",
       "      <td>76</td>\n",
       "      <td>16</td>\n",
       "      <td>1</td>\n",
       "      <td>1993</td>\n",
       "      <td>25498.74795</td>\n",
       "      <td>0</td>\n",
       "      <td>0</td>\n",
       "    </tr>\n",
       "    <tr>\n",
       "      <th>5</th>\n",
       "      <td>25</td>\n",
       "      <td>23</td>\n",
       "      <td>0</td>\n",
       "      <td>6</td>\n",
       "      <td>76</td>\n",
       "      <td>76</td>\n",
       "      <td>16</td>\n",
       "      <td>1</td>\n",
       "      <td>2001</td>\n",
       "      <td>25498.74795</td>\n",
       "      <td>0</td>\n",
       "      <td>0</td>\n",
       "    </tr>\n",
       "    <tr>\n",
       "      <th>6</th>\n",
       "      <td>21</td>\n",
       "      <td>20</td>\n",
       "      <td>0</td>\n",
       "      <td>3</td>\n",
       "      <td>16</td>\n",
       "      <td>16</td>\n",
       "      <td>3</td>\n",
       "      <td>0</td>\n",
       "      <td>2009</td>\n",
       "      <td>0.10775</td>\n",
       "      <td>0</td>\n",
       "      <td>0</td>\n",
       "    </tr>\n",
       "    <tr>\n",
       "      <th>7</th>\n",
       "      <td>21</td>\n",
       "      <td>20</td>\n",
       "      <td>0</td>\n",
       "      <td>3</td>\n",
       "      <td>17</td>\n",
       "      <td>17</td>\n",
       "      <td>4</td>\n",
       "      <td>0</td>\n",
       "      <td>2009</td>\n",
       "      <td>0.08124</td>\n",
       "      <td>0</td>\n",
       "      <td>0</td>\n",
       "    </tr>\n",
       "  </tbody>\n",
       "</table>\n",
       "</div>"
      ],
      "text/plain": [
       "   Country_code  Country  Format_name  Pollutant_name  Sector_code  \\\n",
       "0            25       23            0               6           73   \n",
       "1            25       23            0               6           74   \n",
       "2            25       23            0               6           74   \n",
       "3            25       23            0               6           74   \n",
       "4            25       23            0               6           76   \n",
       "5            25       23            0               6           76   \n",
       "6            21       20            0               3           16   \n",
       "7            21       20            0               3           17   \n",
       "\n",
       "   Sector_name  Parent_sector_code  Unit  Year    emissions  PublicationDate  \\\n",
       "0           73                  16     1  2008  25498.74795                0   \n",
       "1           74                  16     1  1992  25498.74795                0   \n",
       "2           74                  16     1  2010  25498.74795                0   \n",
       "3           74                  16     1  2017  25498.74795                0   \n",
       "4           76                  16     1  1993  25498.74795                0   \n",
       "5           76                  16     1  2001  25498.74795                0   \n",
       "6           16                   3     0  2009      0.10775                0   \n",
       "7           17                   4     0  2009      0.08124                0   \n",
       "\n",
       "   DataSource  \n",
       "0           0  \n",
       "1           0  \n",
       "2           0  \n",
       "3           0  \n",
       "4           0  \n",
       "5           0  \n",
       "6           0  \n",
       "7           0  "
      ]
     },
     "execution_count": 50,
     "metadata": {},
     "output_type": "execute_result"
    }
   ],
   "source": [
    "data.head(8)"
   ]
  },
  {
   "cell_type": "markdown",
   "metadata": {},
   "source": [
    "**Model Training**"
   ]
  },
  {
   "cell_type": "markdown",
   "metadata": {},
   "source": [
    "1. Linear Regression"
   ]
  },
  {
   "cell_type": "code",
   "execution_count": 37,
   "metadata": {},
   "outputs": [],
   "source": [
    "#loading lineair regression model\n",
    "lin_reg_model = LinearRegression()"
   ]
  },
  {
   "cell_type": "code",
   "execution_count": 38,
   "metadata": {},
   "outputs": [
    {
     "data": {
      "text/plain": [
       "LinearRegression()"
      ]
     },
     "execution_count": 38,
     "metadata": {},
     "output_type": "execute_result"
    }
   ],
   "source": [
    "lin_reg_model.fit(X_train, Y_train)"
   ]
  },
  {
   "cell_type": "code",
   "execution_count": 39,
   "metadata": {},
   "outputs": [],
   "source": [
    "#Prediction on Training data\n",
    "training_data_prediction = lin_reg_model.predict(X_train)"
   ]
  },
  {
   "cell_type": "code",
   "execution_count": 40,
   "metadata": {},
   "outputs": [
    {
     "name": "stdout",
     "output_type": "stream",
     "text": [
      "R squared Error: 0.00244807121805779\n"
     ]
    }
   ],
   "source": [
    "# R squared Error\n",
    "error_score = metrics.r2_score(Y_train, training_data_prediction) #should be as low as possible\n",
    "print('R squared Error:' , error_score)"
   ]
  },
  {
   "cell_type": "code",
   "execution_count": 41,
   "metadata": {},
   "outputs": [
    {
     "data": {
      "image/png": "[encoded data removed]",
      "text/plain": [
       "<Figure size 432x288 with 1 Axes>"
      ]
     },
     "metadata": {
      "needs_background": "light"
     },
     "output_type": "display_data"
    }
   ],
   "source": [
    "plt.scatter(Y_train, training_data_prediction)\n",
    "plt.show()"
   ]
  },
  {
   "cell_type": "code",
   "execution_count": 42,
   "metadata": {},
   "outputs": [],
   "source": [
    "#Prediction on Test data\n",
    "test_data_prediction = lin_reg_model.predict(X_test)"
   ]
  },
  {
   "cell_type": "code",
   "execution_count": 43,
   "metadata": {},
   "outputs": [
    {
     "name": "stdout",
     "output_type": "stream",
     "text": [
      "R squared Error: 0.0023725662252106483\n"
     ]
    }
   ],
   "source": [
    "# R squared Error\n",
    "error_score = metrics.r2_score(Y_test, test_data_prediction) \n",
    "print('R squared Error:' , error_score)"
   ]
  },
  {
   "cell_type": "markdown",
   "metadata": {},
   "source": [
    "2.DecisionTreeRegressor"
   ]
  },
  {
   "cell_type": "code",
   "execution_count": 44,
   "metadata": {},
   "outputs": [],
   "source": [
    "from sklearn.tree import DecisionTreeRegressor\n",
    "model = DecisionTreeRegressor()"
   ]
  },
  {
   "cell_type": "code",
   "execution_count": 46,
   "metadata": {},
   "outputs": [
    {
     "data": {
      "text/plain": [
       "DecisionTreeRegressor()"
      ]
     },
     "execution_count": 46,
     "metadata": {},
     "output_type": "execute_result"
    }
   ],
   "source": [
    "model.fit(X_train, Y_train)"
   ]
  },
  {
   "cell_type": "code",
   "execution_count": 47,
   "metadata": {},
   "outputs": [],
   "source": [
    "predictions = model.predict(X_test)"
   ]
  },
  {
   "cell_type": "code",
   "execution_count": 48,
   "metadata": {},
   "outputs": [
    {
     "data": {
      "text/plain": [
       "1.0"
      ]
     },
     "execution_count": 48,
     "metadata": {},
     "output_type": "execute_result"
    }
   ],
   "source": [
    "from sklearn.metrics import mean_absolute_error\n",
    "model.score(X_test, predictions)"
   ]
  },
  {
   "cell_type": "code",
   "execution_count": 49,
   "metadata": {},
   "outputs": [
    {
     "name": "stdout",
     "output_type": "stream",
     "text": [
      "[8.27460192]\n"
     ]
    },
    {
     "name": "stderr",
     "output_type": "stream",
     "text": [
      "C:\\Users\\LENOVO\\AppData\\Roaming\\Python\\Python310\\site-packages\\sklearn\\base.py:450: UserWarning: X does not have valid feature names, but DecisionTreeRegressor was fitted with feature names\n",
      "  warnings.warn(\n"
     ]
    }
   ],
   "source": [
    "features = np.array([[21, 20,0, 4,16,16,3,0,2009,0,0]])\n",
    "print(model.predict(features))"
   ]
  },
  {
   "cell_type": "code",
   "execution_count": 51,
   "metadata": {},
   "outputs": [
    {
     "name": "stdout",
     "output_type": "stream",
     "text": [
      "[7053.54532633]\n"
     ]
    },
    {
     "name": "stderr",
     "output_type": "stream",
     "text": [
      "C:\\Users\\LENOVO\\AppData\\Roaming\\Python\\Python310\\site-packages\\sklearn\\base.py:450: UserWarning: X does not have valid feature names, but DecisionTreeRegressor was fitted with feature names\n",
      "  warnings.warn(\n"
     ]
    }
   ],
   "source": [
    "features = np.array([[21, 20,0, 4,17,17,4,0,2009,0,0]])\n",
    "print(model.predict(features))"
   ]
  },
  {
   "cell_type": "markdown",
   "metadata": {},
   "source": [
    "=>Fausses prédictions"
   ]
  }
 ],
 "metadata": {
  "interpreter": {
   "hash": "b89b5cfaba6639976dc87ff2fec6d58faec662063367e2c229c520fe71072417"
  },
  "kernelspec": {
   "display_name": "Python 3.10.2 64-bit",
   "language": "python",
   "name": "python3"
  },
  "language_info": {
   "codemirror_mode": {
    "name": "ipython",
    "version": 3
   },
   "file_extension": ".py",
   "mimetype": "text/x-python",
   "name": "python",
   "nbconvert_exporter": "python",
   "pygments_lexer": "ipython3",
   "version": "3.10.2"
  },
  "orig_nbformat": 4
 },
 "nbformat": 4,
 "nbformat_minor": 2
}
